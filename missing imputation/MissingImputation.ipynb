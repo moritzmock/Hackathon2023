{
 "cells": [
  {
   "cell_type": "code",
   "execution_count": 10,
   "metadata": {},
   "outputs": [],
   "source": [
    "import numpy as np\n",
    "import pandas as pd\n",
    "\n",
    "# pipiline core \n",
    "from sklearn.model_selection import GridSearchCV\n",
    "\n",
    "from pypots.data import load_specific_dataset\n",
    "from pypots.imputation import SAITS, Transformer\n",
    "\n",
    "import plotly.express as px\n",
    "import plotly.graph_objs as go\n",
    "from plotly.subplots import make_subplots"
   ]
  },
  {
   "cell_type": "code",
   "execution_count": 11,
   "metadata": {},
   "outputs": [
    {
     "data": {
      "text/plain": [
       "(34, 9)"
      ]
     },
     "execution_count": 11,
     "metadata": {},
     "output_type": "execute_result"
    }
   ],
   "source": [
    "# Data preprocessing. Tedious, but PyPOTS can help.\n",
    "df = pd.read_csv('../csv_dump/P_.49_823.csv')  # PyPOTS will automatically download and extract it.\n",
    "df = df.rename(columns={\"Unnamed: 0\": \"date\"})\n",
    "\n",
    "df.shape\n"
   ]
  },
  {
   "cell_type": "code",
   "execution_count": 29,
   "metadata": {},
   "outputs": [
    {
     "data": {
      "text/plain": [
       "(1, 34, 8)"
      ]
     },
     "execution_count": 29,
     "metadata": {},
     "output_type": "execute_result"
    }
   ],
   "source": [
    "X = df.drop(['date'], axis = 1)\n",
    "X = (X.to_numpy()).reshape(-1,X.shape[0],X.shape[1])\n",
    "#X_intact, X, missing_mask, indicating_mask = mcar(X, 0.1) # hold out 10% observed values as ground truth\n",
    "#X = masked_fill(X, 1 - missing_mask, np.nan)\n",
    "dataset = {\"X\": X}\n",
    "X.shape"
   ]
  },
  {
   "cell_type": "code",
   "execution_count": 84,
   "metadata": {},
   "outputs": [
    {
     "name": "stderr",
     "output_type": "stream",
     "text": [
      "2023-11-11 09:41:00 [INFO]: No given device, using default device: cpu\n",
      "2023-11-11 09:41:00 [WARNING]: saving_path not given. Model files and tensorboard file will not be saved.\n",
      "2023-11-11 09:41:00 [INFO]: Model initialized successfully with the number of trainable parameters: 793,224\n",
      "2023-11-11 09:41:00 [INFO]: epoch 0: training loss 14.7010\n",
      "2023-11-11 09:41:00 [INFO]: epoch 1: training loss 13.7498\n",
      "2023-11-11 09:41:00 [INFO]: epoch 2: training loss 15.1572\n",
      "2023-11-11 09:41:00 [INFO]: epoch 3: training loss 13.3003\n",
      "2023-11-11 09:41:00 [INFO]: epoch 4: training loss 13.1854\n",
      "2023-11-11 09:41:00 [INFO]: epoch 5: training loss 13.7621\n",
      "2023-11-11 09:41:00 [INFO]: epoch 6: training loss 11.8193\n",
      "2023-11-11 09:41:00 [INFO]: epoch 7: training loss 11.6262\n",
      "2023-11-11 09:41:01 [INFO]: epoch 8: training loss 13.4413\n",
      "2023-11-11 09:41:01 [INFO]: epoch 9: training loss 12.7822\n",
      "2023-11-11 09:41:01 [INFO]: epoch 10: training loss 12.5912\n",
      "2023-11-11 09:41:01 [INFO]: epoch 11: training loss 12.8752\n",
      "2023-11-11 09:41:01 [INFO]: epoch 12: training loss 13.0443\n",
      "2023-11-11 09:41:01 [INFO]: epoch 13: training loss 12.4105\n",
      "2023-11-11 09:41:01 [INFO]: epoch 14: training loss 11.2085\n",
      "2023-11-11 09:41:01 [INFO]: epoch 15: training loss 12.2653\n",
      "2023-11-11 09:41:01 [INFO]: epoch 16: training loss 12.2042\n",
      "2023-11-11 09:41:01 [INFO]: epoch 17: training loss 10.5944\n",
      "2023-11-11 09:41:01 [INFO]: epoch 18: training loss 11.9293\n",
      "2023-11-11 09:41:01 [INFO]: epoch 19: training loss 11.4539\n",
      "2023-11-11 09:41:01 [INFO]: epoch 20: training loss 11.3268\n",
      "2023-11-11 09:41:01 [INFO]: epoch 21: training loss 12.3695\n",
      "2023-11-11 09:41:01 [INFO]: epoch 22: training loss 11.2220\n",
      "2023-11-11 09:41:01 [INFO]: epoch 23: training loss 10.5102\n",
      "2023-11-11 09:41:01 [INFO]: epoch 24: training loss 10.9563\n",
      "2023-11-11 09:41:01 [INFO]: epoch 25: training loss 10.4890\n",
      "2023-11-11 09:41:01 [INFO]: epoch 26: training loss 11.0314\n",
      "2023-11-11 09:41:01 [INFO]: epoch 27: training loss 10.5977\n",
      "2023-11-11 09:41:01 [INFO]: epoch 28: training loss 9.0529\n",
      "2023-11-11 09:41:02 [INFO]: epoch 29: training loss 9.1938\n",
      "2023-11-11 09:41:02 [INFO]: epoch 30: training loss 10.9465\n",
      "2023-11-11 09:41:02 [INFO]: epoch 31: training loss 10.1450\n",
      "2023-11-11 09:41:02 [INFO]: epoch 32: training loss 10.0512\n",
      "2023-11-11 09:41:02 [INFO]: epoch 33: training loss 9.1378\n",
      "2023-11-11 09:41:02 [INFO]: epoch 34: training loss 10.1755\n",
      "2023-11-11 09:41:02 [INFO]: epoch 35: training loss 9.0822\n",
      "2023-11-11 09:41:02 [INFO]: epoch 36: training loss 10.3488\n",
      "2023-11-11 09:41:02 [INFO]: epoch 37: training loss 9.7119\n",
      "2023-11-11 09:41:02 [INFO]: epoch 38: training loss 8.0577\n",
      "2023-11-11 09:41:02 [INFO]: epoch 39: training loss 9.1877\n",
      "2023-11-11 09:41:02 [INFO]: epoch 40: training loss 9.9157\n",
      "2023-11-11 09:41:02 [INFO]: epoch 41: training loss 10.2408\n",
      "2023-11-11 09:41:02 [INFO]: epoch 42: training loss 8.9216\n",
      "2023-11-11 09:41:02 [INFO]: epoch 43: training loss 10.0306\n",
      "2023-11-11 09:41:02 [INFO]: epoch 44: training loss 8.7476\n",
      "2023-11-11 09:41:02 [INFO]: epoch 45: training loss 7.2943\n",
      "2023-11-11 09:41:02 [INFO]: epoch 46: training loss 8.4814\n",
      "2023-11-11 09:41:02 [INFO]: epoch 47: training loss 8.7510\n",
      "2023-11-11 09:41:02 [INFO]: epoch 48: training loss 9.5640\n",
      "2023-11-11 09:41:02 [INFO]: epoch 49: training loss 8.4851\n",
      "2023-11-11 09:41:02 [INFO]: epoch 50: training loss 7.3692\n",
      "2023-11-11 09:41:03 [INFO]: epoch 51: training loss 8.7767\n",
      "2023-11-11 09:41:03 [INFO]: epoch 52: training loss 7.3877\n",
      "2023-11-11 09:41:03 [INFO]: epoch 53: training loss 7.7929\n",
      "2023-11-11 09:41:03 [INFO]: epoch 54: training loss 8.7092\n",
      "2023-11-11 09:41:03 [INFO]: epoch 55: training loss 8.7384\n",
      "2023-11-11 09:41:03 [INFO]: epoch 56: training loss 7.0568\n",
      "2023-11-11 09:41:03 [INFO]: epoch 57: training loss 7.9805\n",
      "2023-11-11 09:41:03 [INFO]: epoch 58: training loss 7.2667\n",
      "2023-11-11 09:41:03 [INFO]: epoch 59: training loss 7.1796\n",
      "2023-11-11 09:41:03 [INFO]: epoch 60: training loss 7.8617\n",
      "2023-11-11 09:41:03 [INFO]: epoch 61: training loss 6.7768\n",
      "2023-11-11 09:41:03 [INFO]: epoch 62: training loss 7.2412\n",
      "2023-11-11 09:41:03 [INFO]: epoch 63: training loss 7.5534\n",
      "2023-11-11 09:41:03 [INFO]: epoch 64: training loss 6.8876\n",
      "2023-11-11 09:41:03 [INFO]: epoch 65: training loss 6.8658\n",
      "2023-11-11 09:41:03 [INFO]: epoch 66: training loss 6.8215\n",
      "2023-11-11 09:41:03 [INFO]: epoch 67: training loss 7.2551\n",
      "2023-11-11 09:41:03 [INFO]: epoch 68: training loss 6.8315\n",
      "2023-11-11 09:41:03 [INFO]: epoch 69: training loss 8.4069\n",
      "2023-11-11 09:41:03 [INFO]: epoch 70: training loss 7.0601\n",
      "2023-11-11 09:41:03 [INFO]: epoch 71: training loss 6.7115\n",
      "2023-11-11 09:41:03 [INFO]: epoch 72: training loss 6.7036\n",
      "2023-11-11 09:41:03 [INFO]: epoch 73: training loss 6.4580\n",
      "2023-11-11 09:41:03 [INFO]: epoch 74: training loss 5.8540\n",
      "2023-11-11 09:41:03 [INFO]: epoch 75: training loss 6.6232\n",
      "2023-11-11 09:41:03 [INFO]: epoch 76: training loss 5.8903\n",
      "2023-11-11 09:41:03 [INFO]: epoch 77: training loss 6.3468\n",
      "2023-11-11 09:41:03 [INFO]: epoch 78: training loss 6.0061\n",
      "2023-11-11 09:41:04 [INFO]: epoch 79: training loss 5.4653\n",
      "2023-11-11 09:41:04 [INFO]: epoch 80: training loss 5.5750\n",
      "2023-11-11 09:41:04 [INFO]: epoch 81: training loss 7.3174\n",
      "2023-11-11 09:41:04 [INFO]: epoch 82: training loss 7.1094\n",
      "2023-11-11 09:41:04 [INFO]: epoch 83: training loss 6.2261\n",
      "2023-11-11 09:41:04 [INFO]: epoch 84: training loss 7.4763\n",
      "2023-11-11 09:41:04 [INFO]: epoch 85: training loss 5.4341\n",
      "2023-11-11 09:41:04 [INFO]: epoch 86: training loss 5.0103\n",
      "2023-11-11 09:41:04 [INFO]: epoch 87: training loss 5.7234\n",
      "2023-11-11 09:41:04 [INFO]: epoch 88: training loss 5.1069\n",
      "2023-11-11 09:41:04 [INFO]: epoch 89: training loss 5.0806\n",
      "2023-11-11 09:41:04 [INFO]: epoch 90: training loss 4.8250\n",
      "2023-11-11 09:41:04 [INFO]: epoch 91: training loss 5.8881\n",
      "2023-11-11 09:41:04 [INFO]: epoch 92: training loss 5.1083\n",
      "2023-11-11 09:41:04 [INFO]: epoch 93: training loss 5.5044\n",
      "2023-11-11 09:41:04 [INFO]: epoch 94: training loss 5.4742\n",
      "2023-11-11 09:41:04 [INFO]: epoch 95: training loss 4.3709\n",
      "2023-11-11 09:41:04 [INFO]: epoch 96: training loss 4.8509\n",
      "2023-11-11 09:41:04 [INFO]: epoch 97: training loss 4.2540\n",
      "2023-11-11 09:41:04 [INFO]: epoch 98: training loss 6.5605\n",
      "2023-11-11 09:41:04 [INFO]: epoch 99: training loss 4.7720\n",
      "2023-11-11 09:41:04 [INFO]: Finished training.\n"
     ]
    }
   ],
   "source": [
    "# Model training. This is PyPOTS showtime.\n",
    "saits = Transformer(n_steps=X.shape[1], n_features=X.shape[2], n_layers=4, d_model=128, d_inner=256, n_heads=4, d_k=64, d_v=64, dropout=0.1, epochs=10)\n",
    "# Here I use the whole dataset as the training set because ground truth is not visible to the model, you can also split it into train/val/test sets\n",
    "saits.fit(dataset)\n",
    "imputation = saits.predict(dataset)  # impute the originally-missing values and artificially-missing values\n"
   ]
  },
  {
   "cell_type": "code",
   "execution_count": 85,
   "metadata": {},
   "outputs": [
    {
     "data": {
      "text/plain": [
       "(34, 8)"
      ]
     },
     "execution_count": 85,
     "metadata": {},
     "output_type": "execute_result"
    }
   ],
   "source": [
    "imputation['imputation'].reshape(-1,X.shape[2]).shape"
   ]
  },
  {
   "cell_type": "code",
   "execution_count": 86,
   "metadata": {},
   "outputs": [],
   "source": [
    "inputed_df = pd.DataFrame(imputation['imputation'].reshape(-1,X.shape[2]), columns = df.keys().tolist()[0:-1])\n",
    "inputed_df['date']=df['date']"
   ]
  },
  {
   "cell_type": "code",
   "execution_count": 87,
   "metadata": {},
   "outputs": [
    {
     "data": {
      "application/vnd.plotly.v1+json": {
       "config": {
        "plotlyServerURL": "https://plot.ly"
       },
       "data": [
        {
         "line": {
          "color": "rgb(31, 119, 180)"
         },
         "mode": "lines",
         "name": "NDVI",
         "type": "scatter",
         "x": [
          "2020-03-22",
          "2020-04-21",
          "2020-05-21",
          "2020-06-20",
          "2020-07-20",
          "2020-08-19",
          "2020-09-18",
          "2020-10-18",
          "2020-11-17",
          "2020-12-17",
          "2021-01-16",
          "2021-02-15",
          "2021-03-17",
          "2021-04-16",
          "2021-05-16",
          "2021-06-15",
          "2021-07-15",
          "2021-08-14",
          "2021-09-13",
          "2021-10-13",
          "2021-11-12",
          "2021-12-12",
          "2022-01-11",
          "2022-02-10",
          "2022-03-12",
          "2022-04-11",
          "2022-05-11",
          "2022-06-10",
          "2022-07-10",
          "2022-08-09",
          "2022-09-08",
          "2022-10-08",
          "2022-11-07",
          "2022-12-07"
         ],
         "y": [
          2.885,
          5.9449997,
          11.385,
          10.02,
          15.375,
          13.415,
          10.695,
          1.9100001,
          0,
          0,
          0,
          0,
          0,
          0,
          5.375,
          14.83,
          7.285,
          15.975,
          12.535,
          1.3,
          0.105,
          0,
          0,
          0,
          0,
          0.68,
          11.28,
          13,
          15.3,
          15.805,
          11.280001,
          6.16,
          0,
          0
         ]
        },
        {
         "line": {
          "color": "rgb(90, 200, 70)"
         },
         "mode": "lines",
         "name": "NDWI",
         "type": "scatter",
         "x": [
          "2020-03-22",
          "2020-04-21",
          "2020-05-21",
          "2020-06-20",
          "2020-07-20",
          "2020-08-19",
          "2020-09-18",
          "2020-10-18",
          "2020-11-17",
          "2020-12-17",
          "2021-01-16",
          "2021-02-15",
          "2021-03-17",
          "2021-04-16",
          "2021-05-16",
          "2021-06-15",
          "2021-07-15",
          "2021-08-14",
          "2021-09-13",
          "2021-10-13",
          "2021-11-12",
          "2021-12-12",
          "2022-01-11",
          "2022-02-10",
          "2022-03-12",
          "2022-04-11",
          "2022-05-11",
          "2022-06-10",
          "2022-07-10",
          "2022-08-09",
          "2022-09-08",
          "2022-10-08",
          "2022-11-07",
          "2022-12-07"
         ],
         "y": [
          0.27814397,
          0.30370852,
          0.3104011,
          0.3069736,
          0.31049424,
          0.30700594,
          0.30024156,
          0.37570655,
          0.2684346,
          0.12848464,
          -0.100893706,
          0.110630475,
          0.14436862,
          0.15923274,
          0.26275834,
          0.4916265,
          0.29965544,
          0.5029386,
          0.40856794,
          0.45854583,
          0.13554658,
          0.1526703,
          0.17490515,
          0.15683278,
          0.21768314,
          0.29833075,
          0.49253267,
          0.31738514,
          0.3067302,
          0.3071098,
          0.30815902,
          0.44766203,
          0.25341,
          0.24091315
         ]
        },
        {
         "line": {
          "color": "rgb(90, 200, 270)"
         },
         "mode": "lines",
         "name": "NDWI_original",
         "type": "scatter",
         "x": [
          "2020-03-22",
          "2020-04-21",
          "2020-05-21",
          "2020-06-20",
          "2020-07-20",
          "2020-08-19",
          "2020-09-18",
          "2020-10-18",
          "2020-11-17",
          "2020-12-17",
          "2021-01-16",
          "2021-02-15",
          "2021-03-17",
          "2021-04-16",
          "2021-05-16",
          "2021-06-15",
          "2021-07-15",
          "2021-08-14",
          "2021-09-13",
          "2021-10-13",
          "2021-11-12",
          "2021-12-12",
          "2022-01-11",
          "2022-02-10",
          "2022-03-12",
          "2022-04-11",
          "2022-05-11",
          "2022-06-10",
          "2022-07-10",
          "2022-08-09",
          "2022-09-08",
          "2022-10-08",
          "2022-11-07",
          "2022-12-07"
         ],
         "y": [
          null,
          null,
          null,
          null,
          null,
          null,
          null,
          -0.2100679576396942,
          -0.1212939023971557,
          null,
          0.1394132524728775,
          null,
          -0.0774802938103675,
          null,
          null,
          -0.3248990476131439,
          null,
          -0.3215053677558899,
          -0.2462236732244491,
          -0.293119341135025,
          0.0527380369603633,
          null,
          -0.0607117600739002,
          -0.0622518360614776,
          null,
          -0.1742644309997558,
          -0.3135381937026977,
          -0.192228764295578,
          null,
          null,
          null,
          -0.2737498879432678,
          -0.114058718085289,
          -0.0964927822351455
         ]
        },
        {
         "line": {
          "color": "rgb(31, 119, 010)"
         },
         "mode": "lines",
         "name": "NDVI_original",
         "type": "scatter",
         "x": [
          "2020-03-22",
          "2020-04-21",
          "2020-05-21",
          "2020-06-20",
          "2020-07-20",
          "2020-08-19",
          "2020-09-18",
          "2020-10-18",
          "2020-11-17",
          "2020-12-17",
          "2021-01-16",
          "2021-02-15",
          "2021-03-17",
          "2021-04-16",
          "2021-05-16",
          "2021-06-15",
          "2021-07-15",
          "2021-08-14",
          "2021-09-13",
          "2021-10-13",
          "2021-11-12",
          "2021-12-12",
          "2022-01-11",
          "2022-02-10",
          "2022-03-12",
          "2022-04-11",
          "2022-05-11",
          "2022-06-10",
          "2022-07-10",
          "2022-08-09",
          "2022-09-08",
          "2022-10-08",
          "2022-11-07",
          "2022-12-07"
         ],
         "y": [
          null,
          null,
          null,
          null,
          null,
          null,
          null,
          0.3757065534591675,
          0.2684346139431,
          null,
          -0.1008937060832977,
          null,
          0.1443686187267303,
          null,
          null,
          0.491626501083374,
          null,
          0.5029386281967163,
          0.4085679352283478,
          0.458545833826065,
          0.1355465799570083,
          null,
          0.1749051511287689,
          0.1568327844142913,
          null,
          0.2983307540416717,
          0.4925326704978943,
          0.3173851370811462,
          null,
          null,
          null,
          0.4476620256900787,
          0.2534100115299225,
          0.2409131526947021
         ]
        }
       ],
       "layout": {
        "template": {
         "data": {
          "bar": [
           {
            "error_x": {
             "color": "#2a3f5f"
            },
            "error_y": {
             "color": "#2a3f5f"
            },
            "marker": {
             "line": {
              "color": "#E5ECF6",
              "width": 0.5
             },
             "pattern": {
              "fillmode": "overlay",
              "size": 10,
              "solidity": 0.2
             }
            },
            "type": "bar"
           }
          ],
          "barpolar": [
           {
            "marker": {
             "line": {
              "color": "#E5ECF6",
              "width": 0.5
             },
             "pattern": {
              "fillmode": "overlay",
              "size": 10,
              "solidity": 0.2
             }
            },
            "type": "barpolar"
           }
          ],
          "carpet": [
           {
            "aaxis": {
             "endlinecolor": "#2a3f5f",
             "gridcolor": "white",
             "linecolor": "white",
             "minorgridcolor": "white",
             "startlinecolor": "#2a3f5f"
            },
            "baxis": {
             "endlinecolor": "#2a3f5f",
             "gridcolor": "white",
             "linecolor": "white",
             "minorgridcolor": "white",
             "startlinecolor": "#2a3f5f"
            },
            "type": "carpet"
           }
          ],
          "choropleth": [
           {
            "colorbar": {
             "outlinewidth": 0,
             "ticks": ""
            },
            "type": "choropleth"
           }
          ],
          "contour": [
           {
            "colorbar": {
             "outlinewidth": 0,
             "ticks": ""
            },
            "colorscale": [
             [
              0,
              "#0d0887"
             ],
             [
              0.1111111111111111,
              "#46039f"
             ],
             [
              0.2222222222222222,
              "#7201a8"
             ],
             [
              0.3333333333333333,
              "#9c179e"
             ],
             [
              0.4444444444444444,
              "#bd3786"
             ],
             [
              0.5555555555555556,
              "#d8576b"
             ],
             [
              0.6666666666666666,
              "#ed7953"
             ],
             [
              0.7777777777777778,
              "#fb9f3a"
             ],
             [
              0.8888888888888888,
              "#fdca26"
             ],
             [
              1,
              "#f0f921"
             ]
            ],
            "type": "contour"
           }
          ],
          "contourcarpet": [
           {
            "colorbar": {
             "outlinewidth": 0,
             "ticks": ""
            },
            "type": "contourcarpet"
           }
          ],
          "heatmap": [
           {
            "colorbar": {
             "outlinewidth": 0,
             "ticks": ""
            },
            "colorscale": [
             [
              0,
              "#0d0887"
             ],
             [
              0.1111111111111111,
              "#46039f"
             ],
             [
              0.2222222222222222,
              "#7201a8"
             ],
             [
              0.3333333333333333,
              "#9c179e"
             ],
             [
              0.4444444444444444,
              "#bd3786"
             ],
             [
              0.5555555555555556,
              "#d8576b"
             ],
             [
              0.6666666666666666,
              "#ed7953"
             ],
             [
              0.7777777777777778,
              "#fb9f3a"
             ],
             [
              0.8888888888888888,
              "#fdca26"
             ],
             [
              1,
              "#f0f921"
             ]
            ],
            "type": "heatmap"
           }
          ],
          "heatmapgl": [
           {
            "colorbar": {
             "outlinewidth": 0,
             "ticks": ""
            },
            "colorscale": [
             [
              0,
              "#0d0887"
             ],
             [
              0.1111111111111111,
              "#46039f"
             ],
             [
              0.2222222222222222,
              "#7201a8"
             ],
             [
              0.3333333333333333,
              "#9c179e"
             ],
             [
              0.4444444444444444,
              "#bd3786"
             ],
             [
              0.5555555555555556,
              "#d8576b"
             ],
             [
              0.6666666666666666,
              "#ed7953"
             ],
             [
              0.7777777777777778,
              "#fb9f3a"
             ],
             [
              0.8888888888888888,
              "#fdca26"
             ],
             [
              1,
              "#f0f921"
             ]
            ],
            "type": "heatmapgl"
           }
          ],
          "histogram": [
           {
            "marker": {
             "pattern": {
              "fillmode": "overlay",
              "size": 10,
              "solidity": 0.2
             }
            },
            "type": "histogram"
           }
          ],
          "histogram2d": [
           {
            "colorbar": {
             "outlinewidth": 0,
             "ticks": ""
            },
            "colorscale": [
             [
              0,
              "#0d0887"
             ],
             [
              0.1111111111111111,
              "#46039f"
             ],
             [
              0.2222222222222222,
              "#7201a8"
             ],
             [
              0.3333333333333333,
              "#9c179e"
             ],
             [
              0.4444444444444444,
              "#bd3786"
             ],
             [
              0.5555555555555556,
              "#d8576b"
             ],
             [
              0.6666666666666666,
              "#ed7953"
             ],
             [
              0.7777777777777778,
              "#fb9f3a"
             ],
             [
              0.8888888888888888,
              "#fdca26"
             ],
             [
              1,
              "#f0f921"
             ]
            ],
            "type": "histogram2d"
           }
          ],
          "histogram2dcontour": [
           {
            "colorbar": {
             "outlinewidth": 0,
             "ticks": ""
            },
            "colorscale": [
             [
              0,
              "#0d0887"
             ],
             [
              0.1111111111111111,
              "#46039f"
             ],
             [
              0.2222222222222222,
              "#7201a8"
             ],
             [
              0.3333333333333333,
              "#9c179e"
             ],
             [
              0.4444444444444444,
              "#bd3786"
             ],
             [
              0.5555555555555556,
              "#d8576b"
             ],
             [
              0.6666666666666666,
              "#ed7953"
             ],
             [
              0.7777777777777778,
              "#fb9f3a"
             ],
             [
              0.8888888888888888,
              "#fdca26"
             ],
             [
              1,
              "#f0f921"
             ]
            ],
            "type": "histogram2dcontour"
           }
          ],
          "mesh3d": [
           {
            "colorbar": {
             "outlinewidth": 0,
             "ticks": ""
            },
            "type": "mesh3d"
           }
          ],
          "parcoords": [
           {
            "line": {
             "colorbar": {
              "outlinewidth": 0,
              "ticks": ""
             }
            },
            "type": "parcoords"
           }
          ],
          "pie": [
           {
            "automargin": true,
            "type": "pie"
           }
          ],
          "scatter": [
           {
            "fillpattern": {
             "fillmode": "overlay",
             "size": 10,
             "solidity": 0.2
            },
            "type": "scatter"
           }
          ],
          "scatter3d": [
           {
            "line": {
             "colorbar": {
              "outlinewidth": 0,
              "ticks": ""
             }
            },
            "marker": {
             "colorbar": {
              "outlinewidth": 0,
              "ticks": ""
             }
            },
            "type": "scatter3d"
           }
          ],
          "scattercarpet": [
           {
            "marker": {
             "colorbar": {
              "outlinewidth": 0,
              "ticks": ""
             }
            },
            "type": "scattercarpet"
           }
          ],
          "scattergeo": [
           {
            "marker": {
             "colorbar": {
              "outlinewidth": 0,
              "ticks": ""
             }
            },
            "type": "scattergeo"
           }
          ],
          "scattergl": [
           {
            "marker": {
             "colorbar": {
              "outlinewidth": 0,
              "ticks": ""
             }
            },
            "type": "scattergl"
           }
          ],
          "scattermapbox": [
           {
            "marker": {
             "colorbar": {
              "outlinewidth": 0,
              "ticks": ""
             }
            },
            "type": "scattermapbox"
           }
          ],
          "scatterpolar": [
           {
            "marker": {
             "colorbar": {
              "outlinewidth": 0,
              "ticks": ""
             }
            },
            "type": "scatterpolar"
           }
          ],
          "scatterpolargl": [
           {
            "marker": {
             "colorbar": {
              "outlinewidth": 0,
              "ticks": ""
             }
            },
            "type": "scatterpolargl"
           }
          ],
          "scatterternary": [
           {
            "marker": {
             "colorbar": {
              "outlinewidth": 0,
              "ticks": ""
             }
            },
            "type": "scatterternary"
           }
          ],
          "surface": [
           {
            "colorbar": {
             "outlinewidth": 0,
             "ticks": ""
            },
            "colorscale": [
             [
              0,
              "#0d0887"
             ],
             [
              0.1111111111111111,
              "#46039f"
             ],
             [
              0.2222222222222222,
              "#7201a8"
             ],
             [
              0.3333333333333333,
              "#9c179e"
             ],
             [
              0.4444444444444444,
              "#bd3786"
             ],
             [
              0.5555555555555556,
              "#d8576b"
             ],
             [
              0.6666666666666666,
              "#ed7953"
             ],
             [
              0.7777777777777778,
              "#fb9f3a"
             ],
             [
              0.8888888888888888,
              "#fdca26"
             ],
             [
              1,
              "#f0f921"
             ]
            ],
            "type": "surface"
           }
          ],
          "table": [
           {
            "cells": {
             "fill": {
              "color": "#EBF0F8"
             },
             "line": {
              "color": "white"
             }
            },
            "header": {
             "fill": {
              "color": "#C8D4E3"
             },
             "line": {
              "color": "white"
             }
            },
            "type": "table"
           }
          ]
         },
         "layout": {
          "annotationdefaults": {
           "arrowcolor": "#2a3f5f",
           "arrowhead": 0,
           "arrowwidth": 1
          },
          "autotypenumbers": "strict",
          "coloraxis": {
           "colorbar": {
            "outlinewidth": 0,
            "ticks": ""
           }
          },
          "colorscale": {
           "diverging": [
            [
             0,
             "#8e0152"
            ],
            [
             0.1,
             "#c51b7d"
            ],
            [
             0.2,
             "#de77ae"
            ],
            [
             0.3,
             "#f1b6da"
            ],
            [
             0.4,
             "#fde0ef"
            ],
            [
             0.5,
             "#f7f7f7"
            ],
            [
             0.6,
             "#e6f5d0"
            ],
            [
             0.7,
             "#b8e186"
            ],
            [
             0.8,
             "#7fbc41"
            ],
            [
             0.9,
             "#4d9221"
            ],
            [
             1,
             "#276419"
            ]
           ],
           "sequential": [
            [
             0,
             "#0d0887"
            ],
            [
             0.1111111111111111,
             "#46039f"
            ],
            [
             0.2222222222222222,
             "#7201a8"
            ],
            [
             0.3333333333333333,
             "#9c179e"
            ],
            [
             0.4444444444444444,
             "#bd3786"
            ],
            [
             0.5555555555555556,
             "#d8576b"
            ],
            [
             0.6666666666666666,
             "#ed7953"
            ],
            [
             0.7777777777777778,
             "#fb9f3a"
            ],
            [
             0.8888888888888888,
             "#fdca26"
            ],
            [
             1,
             "#f0f921"
            ]
           ],
           "sequentialminus": [
            [
             0,
             "#0d0887"
            ],
            [
             0.1111111111111111,
             "#46039f"
            ],
            [
             0.2222222222222222,
             "#7201a8"
            ],
            [
             0.3333333333333333,
             "#9c179e"
            ],
            [
             0.4444444444444444,
             "#bd3786"
            ],
            [
             0.5555555555555556,
             "#d8576b"
            ],
            [
             0.6666666666666666,
             "#ed7953"
            ],
            [
             0.7777777777777778,
             "#fb9f3a"
            ],
            [
             0.8888888888888888,
             "#fdca26"
            ],
            [
             1,
             "#f0f921"
            ]
           ]
          },
          "colorway": [
           "#636efa",
           "#EF553B",
           "#00cc96",
           "#ab63fa",
           "#FFA15A",
           "#19d3f3",
           "#FF6692",
           "#B6E880",
           "#FF97FF",
           "#FECB52"
          ],
          "font": {
           "color": "#2a3f5f"
          },
          "geo": {
           "bgcolor": "white",
           "lakecolor": "white",
           "landcolor": "#E5ECF6",
           "showlakes": true,
           "showland": true,
           "subunitcolor": "white"
          },
          "hoverlabel": {
           "align": "left"
          },
          "hovermode": "closest",
          "mapbox": {
           "style": "light"
          },
          "paper_bgcolor": "white",
          "plot_bgcolor": "#E5ECF6",
          "polar": {
           "angularaxis": {
            "gridcolor": "white",
            "linecolor": "white",
            "ticks": ""
           },
           "bgcolor": "#E5ECF6",
           "radialaxis": {
            "gridcolor": "white",
            "linecolor": "white",
            "ticks": ""
           }
          },
          "scene": {
           "xaxis": {
            "backgroundcolor": "#E5ECF6",
            "gridcolor": "white",
            "gridwidth": 2,
            "linecolor": "white",
            "showbackground": true,
            "ticks": "",
            "zerolinecolor": "white"
           },
           "yaxis": {
            "backgroundcolor": "#E5ECF6",
            "gridcolor": "white",
            "gridwidth": 2,
            "linecolor": "white",
            "showbackground": true,
            "ticks": "",
            "zerolinecolor": "white"
           },
           "zaxis": {
            "backgroundcolor": "#E5ECF6",
            "gridcolor": "white",
            "gridwidth": 2,
            "linecolor": "white",
            "showbackground": true,
            "ticks": "",
            "zerolinecolor": "white"
           }
          },
          "shapedefaults": {
           "line": {
            "color": "#2a3f5f"
           }
          },
          "ternary": {
           "aaxis": {
            "gridcolor": "white",
            "linecolor": "white",
            "ticks": ""
           },
           "baxis": {
            "gridcolor": "white",
            "linecolor": "white",
            "ticks": ""
           },
           "bgcolor": "#E5ECF6",
           "caxis": {
            "gridcolor": "white",
            "linecolor": "white",
            "ticks": ""
           }
          },
          "title": {
           "x": 0.05
          },
          "xaxis": {
           "automargin": true,
           "gridcolor": "white",
           "linecolor": "white",
           "ticks": "",
           "title": {
            "standoff": 15
           },
           "zerolinecolor": "white",
           "zerolinewidth": 2
          },
          "yaxis": {
           "automargin": true,
           "gridcolor": "white",
           "linecolor": "white",
           "ticks": "",
           "title": {
            "standoff": 15
           },
           "zerolinecolor": "white",
           "zerolinewidth": 2
          }
         }
        },
        "xaxis": {
         "anchor": "y",
         "domain": [
          0,
          0.94
         ]
        },
        "yaxis": {
         "anchor": "x",
         "domain": [
          0,
          1
         ]
        },
        "yaxis2": {
         "anchor": "x",
         "overlaying": "y",
         "side": "right"
        }
       }
      }
     },
     "metadata": {},
     "output_type": "display_data"
    }
   ],
   "source": [
    "fig = make_subplots(specs=[[{\"secondary_y\": True}]])\n",
    "fig.add_trace(go.Scatter(\n",
    "        name='NDVI',\n",
    "        x=inputed_df['date'],\n",
    "        y=inputed_df['ndvi'],\n",
    "        mode='lines',\n",
    "        line=dict(color='rgb(31, 119, 180)'),\n",
    "    ))\n",
    "fig.add_trace(go.Scatter(\n",
    "        name='NDWI',\n",
    "        x=inputed_df['date'],\n",
    "        y=inputed_df['ndwi'],\n",
    "        mode='lines',\n",
    "        line=dict(color='rgb(90, 200, 70)'),\n",
    "    ))\n",
    "\n",
    "fig.add_trace(go.Scatter(\n",
    "        name='NDWI_original',\n",
    "        x=df['date'],\n",
    "        y=df['ndwi'],\n",
    "        mode='lines',\n",
    "        line=dict(color='rgb(90, 200, 270)'),\n",
    "    ))\n",
    "\n",
    "fig.add_trace(go.Scatter(\n",
    "        name='NDVI_original',\n",
    "        x=df['date'],\n",
    "        y=df['ndvi'],\n",
    "        mode='lines',\n",
    "        line=dict(color='rgb(31, 119, 010)'),\n",
    "    ))"
   ]
  }
 ],
 "metadata": {
  "kernelspec": {
   "display_name": "RealTimeBigData",
   "language": "python",
   "name": "python3"
  },
  "language_info": {
   "codemirror_mode": {
    "name": "ipython",
    "version": 3
   },
   "file_extension": ".py",
   "mimetype": "text/x-python",
   "name": "python",
   "nbconvert_exporter": "python",
   "pygments_lexer": "ipython3",
   "version": "3.8.16"
  }
 },
 "nbformat": 4,
 "nbformat_minor": 2
}
