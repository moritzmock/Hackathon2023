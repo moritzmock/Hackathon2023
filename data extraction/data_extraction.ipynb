{
 "cells": [
  {
   "cell_type": "code",
   "execution_count": 1,
   "metadata": {},
   "outputs": [],
   "source": [
    "import pandas as pd\n",
    "import rasterio\n",
    "from rasterio.mask import mask\n",
    "import geopandas as gpd\n",
    "import json\n",
    "import os\n",
    "import rasterio\n",
    "import numpy as np\n"
   ]
  },
  {
   "cell_type": "markdown",
   "metadata": {},
   "source": [
    "## cut raster"
   ]
  },
  {
   "cell_type": "code",
   "execution_count": 2,
   "metadata": {},
   "outputs": [],
   "source": [
    "gdf = gpd.read_file('../../konverto_data_package/polygons/polygons.geojson')"
   ]
  },
  {
   "cell_type": "code",
   "execution_count": 3,
   "metadata": {},
   "outputs": [
    {
     "data": {
      "text/html": [
       "<div>\n",
       "<style scoped>\n",
       "    .dataframe tbody tr th:only-of-type {\n",
       "        vertical-align: middle;\n",
       "    }\n",
       "\n",
       "    .dataframe tbody tr th {\n",
       "        vertical-align: top;\n",
       "    }\n",
       "\n",
       "    .dataframe thead th {\n",
       "        text-align: right;\n",
       "    }\n",
       "</style>\n",
       "<table border=\"1\" class=\"dataframe\">\n",
       "  <thead>\n",
       "    <tr style=\"text-align: right;\">\n",
       "      <th></th>\n",
       "      <th>type</th>\n",
       "      <th>geometry</th>\n",
       "    </tr>\n",
       "  </thead>\n",
       "  <tbody>\n",
       "    <tr>\n",
       "      <th>0</th>\n",
       "      <td>winery</td>\n",
       "      <td>MULTIPOLYGON EMPTY</td>\n",
       "    </tr>\n",
       "    <tr>\n",
       "      <th>1</th>\n",
       "      <td>winery</td>\n",
       "      <td>MULTIPOLYGON (((675007.413 5143326.011, 675067...</td>\n",
       "    </tr>\n",
       "    <tr>\n",
       "      <th>2</th>\n",
       "      <td>winery</td>\n",
       "      <td>MULTIPOLYGON (((675066.550 5143267.678, 675149...</td>\n",
       "    </tr>\n",
       "    <tr>\n",
       "      <th>3</th>\n",
       "      <td>winery</td>\n",
       "      <td>MULTIPOLYGON (((674760.935 5143198.037, 674834...</td>\n",
       "    </tr>\n",
       "    <tr>\n",
       "      <th>4</th>\n",
       "      <td>winery</td>\n",
       "      <td>MULTIPOLYGON (((673672.158 5143505.380, 673678...</td>\n",
       "    </tr>\n",
       "    <tr>\n",
       "      <th>...</th>\n",
       "      <td>...</td>\n",
       "      <td>...</td>\n",
       "    </tr>\n",
       "    <tr>\n",
       "      <th>96</th>\n",
       "      <td>apple orchard</td>\n",
       "      <td>MULTIPOLYGON (((673977.481 5136172.898, 674005...</td>\n",
       "    </tr>\n",
       "    <tr>\n",
       "      <th>97</th>\n",
       "      <td>winery</td>\n",
       "      <td>MULTIPOLYGON (((673322.831 5136427.445, 673328...</td>\n",
       "    </tr>\n",
       "    <tr>\n",
       "      <th>98</th>\n",
       "      <td>winery</td>\n",
       "      <td>MULTIPOLYGON (((672685.775 5139609.934, 672709...</td>\n",
       "    </tr>\n",
       "    <tr>\n",
       "      <th>99</th>\n",
       "      <td>apple orchard</td>\n",
       "      <td>MULTIPOLYGON (((678006.627 5145427.665, 677996...</td>\n",
       "    </tr>\n",
       "    <tr>\n",
       "      <th>100</th>\n",
       "      <td>apple orchard</td>\n",
       "      <td>MULTIPOLYGON (((678007.678 5145426.475, 678070...</td>\n",
       "    </tr>\n",
       "  </tbody>\n",
       "</table>\n",
       "<p>101 rows × 2 columns</p>\n",
       "</div>"
      ],
      "text/plain": [
       "              type                                           geometry\n",
       "0           winery                                 MULTIPOLYGON EMPTY\n",
       "1           winery  MULTIPOLYGON (((675007.413 5143326.011, 675067...\n",
       "2           winery  MULTIPOLYGON (((675066.550 5143267.678, 675149...\n",
       "3           winery  MULTIPOLYGON (((674760.935 5143198.037, 674834...\n",
       "4           winery  MULTIPOLYGON (((673672.158 5143505.380, 673678...\n",
       "..             ...                                                ...\n",
       "96   apple orchard  MULTIPOLYGON (((673977.481 5136172.898, 674005...\n",
       "97          winery  MULTIPOLYGON (((673322.831 5136427.445, 673328...\n",
       "98          winery  MULTIPOLYGON (((672685.775 5139609.934, 672709...\n",
       "99   apple orchard  MULTIPOLYGON (((678006.627 5145427.665, 677996...\n",
       "100  apple orchard  MULTIPOLYGON (((678007.678 5145426.475, 678070...\n",
       "\n",
       "[101 rows x 2 columns]"
      ]
     },
     "execution_count": 3,
     "metadata": {},
     "output_type": "execute_result"
    }
   ],
   "source": [
    "gdf"
   ]
  },
  {
   "cell_type": "code",
   "execution_count": 4,
   "metadata": {},
   "outputs": [
    {
     "data": {
      "text/plain": [
       "type                                                   winery\n",
       "geometry    MULTIPOLYGON (((673161.0209203674 5138097.8153...\n",
       "Name: 11, dtype: object"
      ]
     },
     "execution_count": 4,
     "metadata": {},
     "output_type": "execute_result"
    }
   ],
   "source": [
    "gdf1 = gdf.loc[11]\n",
    "gdf1"
   ]
  },
  {
   "cell_type": "code",
   "execution_count": 5,
   "metadata": {},
   "outputs": [
    {
     "data": {
      "image/svg+xml": [
       "<svg xmlns=\"http://www.w3.org/2000/svg\" xmlns:xlink=\"http://www.w3.org/1999/xlink\" width=\"212.94703642860986\" height=\"208.14583110250533\" viewBox=\"673463.0654911865 5139514.280558455 212.94703642860986 208.14583110250533\" preserveAspectRatio=\"xMinYMin meet\"><g transform=\"matrix(1,0,0,-1,0,10279236.706948012)\"><g><path fill-rule=\"evenodd\" fill=\"#66cc99\" stroke=\"#555555\" stroke-width=\"2.0\" opacity=\"0.6\" d=\"M 673470.9524184616,5139569.188658351 L 673539.6077218383,5139714.539462282 L 673668.12560034,5139682.868027472 L 673651.4405178521,5139607.648878803 L 673660.532443122,5139604.252607453 L 673654.8981749808,5139584.999839183 L 673616.7767223015,5139522.16748573 L 673470.9524184616,5139569.188658351 z\" /></g></g></svg>"
      ],
      "text/plain": [
       "<MULTIPOLYGON (((673470.952 5139569.189, 673539.608 5139714.539, 673668.126 ...>"
      ]
     },
     "execution_count": 5,
     "metadata": {},
     "output_type": "execute_result"
    }
   ],
   "source": [
    "gdf.loc[8].geometry\n",
    "    "
   ]
  },
  {
   "cell_type": "code",
   "execution_count": 6,
   "metadata": {},
   "outputs": [
    {
     "data": {
      "text/plain": [
       "<open DatasetReader name='../../konverto_data_package/climate/tmean/tmean_2020_01_21.tif' mode='r'>"
      ]
     },
     "execution_count": 6,
     "metadata": {},
     "output_type": "execute_result"
    }
   ],
   "source": [
    "raster = rasterio.open('../../konverto_data_package/climate/tmean/tmean_2020_01_21.tif')\n",
    "raster"
   ]
  },
  {
   "cell_type": "code",
   "execution_count": 7,
   "metadata": {},
   "outputs": [
    {
     "data": {
      "text/plain": [
       "array([[[       nan, 0.9553406 ],\n",
       "        [0.88942724, 0.7424053 ],\n",
       "        [0.8325057 , 0.34043524]]], dtype=float32)"
      ]
     },
     "execution_count": 7,
     "metadata": {},
     "output_type": "execute_result"
    }
   ],
   "source": [
    "out, inside  = mask(raster, gdf1[['geometry']], crop=True, invert=False, all_touched=True, nodata=np.nan)\n",
    "out"
   ]
  },
  {
   "cell_type": "code",
   "execution_count": 8,
   "metadata": {},
   "outputs": [],
   "source": [
    "def get_dataset_file_paths():\n",
    "\n",
    "    directory = \"../../konverto_data_package\"\n",
    "    \n",
    "    datasets = {}\n",
    "    for root, dirs, files in os.walk(directory):\n",
    "        # print(f\"Current directory: {root}\")\n",
    "        if \"visual\" in root:\n",
    "            continue\n",
    "\n",
    "        tif_files = [f for f in files if f.endswith(\".tif\") and not f.startswith(\".\")]\n",
    "        tif_paths = [os.path.join(root, f) for f in tif_files]\n",
    "\n",
    "\n",
    "        if len(tif_files) > 0:\n",
    "\n",
    "            if \"climate\" in tif_paths[0]:\n",
    "                dates = [\"-\".join(f.replace(\".tif\", \"\").split(\"_\")[1:]) for f in tif_files]\n",
    "            elif \"satellite\" in tif_paths[0]:\n",
    "                datestrings = [f.replace(\".tif\", \"\").split(\"_\")[0] for f in tif_files]\n",
    "                dates = [d[:4] + \"-\" + d[4:6] + \"-\" + d[6:] for d in datestrings]\n",
    "            else:\n",
    "                dates = None\n",
    "            \n",
    "\n",
    "            if dates:\n",
    "                dataset_name = os.path.basename(root)\n",
    "                \n",
    "                for date, fp in zip(dates, tif_paths):\n",
    "                    if date in datasets:\n",
    "                        datasets[date].update({dataset_name: fp})\n",
    "                    else:\n",
    "                        datasets[date] = {dataset_name: fp}\n",
    "            \n",
    "            if \"terrain\" in tif_paths[0]:\n",
    "                dataset_names = [n.replace(\".tif\", \"\") for n in tif_files]\n",
    "                for date in datasets.keys():\n",
    "                    for dn, fp in zip(dataset_names, tif_paths):\n",
    "                        datasets[date].update({dn: fp})\n",
    "\n",
    "                    \n",
    "\n",
    "\n",
    "    return datasets"
   ]
  },
  {
   "cell_type": "code",
   "execution_count": 9,
   "metadata": {},
   "outputs": [],
   "source": [
    "datasets = get_dataset_file_paths()"
   ]
  },
  {
   "cell_type": "code",
   "execution_count": 10,
   "metadata": {},
   "outputs": [
    {
     "data": {
      "text/plain": [
       "{'gdd': '../../konverto_data_package\\\\climate\\\\gdd\\\\gdd_2020_03_22.tif',\n",
       " 'pmm': '../../konverto_data_package\\\\climate\\\\pmm\\\\pmm_2020_03_22.tif',\n",
       " 'tmax': '../../konverto_data_package\\\\climate\\\\tmax\\\\tmax_2020_03_22.tif',\n",
       " 'tmean': '../../konverto_data_package\\\\climate\\\\tmean\\\\tmean_2020_03_22.tif',\n",
       " 'tmin': '../../konverto_data_package\\\\climate\\\\tmin\\\\tmin_2020_03_22.tif',\n",
       " 'ndvi': '../../konverto_data_package\\\\satellite\\\\indices\\\\ndvi\\\\20200322_ndvi.tif',\n",
       " 'ndwi': '../../konverto_data_package\\\\satellite\\\\indices\\\\ndwi\\\\20200322_ndwi.tif',\n",
       " 'reci': '../../konverto_data_package\\\\satellite\\\\indices\\\\reci\\\\20200322_reci.tif',\n",
       " 'elevation': '../../konverto_data_package\\\\terrain\\\\elevation.tif',\n",
       " 'exposure': '../../konverto_data_package\\\\terrain\\\\exposure.tif',\n",
       " 'slope': '../../konverto_data_package\\\\terrain\\\\slope.tif'}"
      ]
     },
     "execution_count": 10,
     "metadata": {},
     "output_type": "execute_result"
    }
   ],
   "source": [
    "datasets[\"2020-03-22\"]"
   ]
  },
  {
   "cell_type": "code",
   "execution_count": 11,
   "metadata": {},
   "outputs": [],
   "source": [
    "def extract_raster_data_from_polygon(polygon, paths_data, stat = \"mean\"):\n",
    "\n",
    "    data = {}\n",
    "    mean = {}\n",
    "    std = {}\n",
    "    for dataset_name, fpath in paths_data.items():\n",
    "        raster = rasterio.open(fpath)\n",
    "        if stat == \"mean\":\n",
    "            data[dataset_name] = np.nanmean(mask(raster, polygon, crop=True, invert=False, all_touched=True, nodata=np.nan)[0])\n",
    "        elif stat == \"std\":\n",
    "            data[dataset_name] = np.nanstd(mask(raster, polygon, crop=True, invert=False, all_touched=True, nodata=np.nan)[0])\n",
    "        elif stat == \"max\":\n",
    "            data[dataset_name] = np.nanmax(mask(raster, polygon, crop=True, invert=False, all_touched=True, nodata=np.nan)[0])\n",
    "        elif stat == \"min\":\n",
    "            data[dataset_name] = np.nanmin(mask(raster, polygon, crop=True, invert=False, all_touched=True, nodata=np.nan)[0])\n",
    "        elif stat == \"mean_std\":\n",
    "            mean[dataset_name] = np.nanmean(mask(raster, polygon, crop=True, invert=False, all_touched=True, nodata=np.nan)[0])\n",
    "            std[dataset_name] = np.nanstd(mask(raster, polygon, crop=True, invert=False, all_touched=True, nodata=np.nan)[0])\n",
    "            data = (mean, std)\n",
    "\n",
    "\n",
    "\n",
    "    return data\n",
    "\n",
    "\n",
    "def get_time_series_data_from_polygon(polygon, stat=\"mean\"):\n",
    "    \n",
    "    paths_dataset = get_dataset_file_paths()\n",
    "    dti = pd.date_range(\"2020-03-22\", end=\"2022-12-31\", freq=\"12D\")\n",
    "    rows = []\n",
    "    for d in dti:\n",
    "        try:\n",
    "            date_string = d.strftime(\"%Y-%m-%d\")\n",
    "            row = extract_raster_data_from_polygon(polygon, paths_dataset[date_string], stat)\n",
    "        except:\n",
    "            print(d)\n",
    "        rows.append(row)\n",
    "    ts = pd.DataFrame(index=dti,data=rows)\n",
    "\n",
    "    return ts\n",
    "    \n"
   ]
  },
  {
   "cell_type": "code",
   "execution_count": 12,
   "metadata": {},
   "outputs": [
    {
     "name": "stderr",
     "output_type": "stream",
     "text": [
      "C:\\Users\\rabjo\\AppData\\Local\\Temp\\ipykernel_31168\\2978814946.py:9: RuntimeWarning: Mean of empty slice\n",
      "  data[dataset_name] = np.nanmean(mask(raster, polygon, crop=True, invert=False, all_touched=True, nodata=np.nan)[0])\n",
      "C:\\Users\\rabjo\\AppData\\Local\\Temp\\ipykernel_31168\\2978814946.py:9: RuntimeWarning: Mean of empty slice\n",
      "  data[dataset_name] = np.nanmean(mask(raster, polygon, crop=True, invert=False, all_touched=True, nodata=np.nan)[0])\n",
      "C:\\Users\\rabjo\\AppData\\Local\\Temp\\ipykernel_31168\\2978814946.py:9: RuntimeWarning: Mean of empty slice\n",
      "  data[dataset_name] = np.nanmean(mask(raster, polygon, crop=True, invert=False, all_touched=True, nodata=np.nan)[0])\n"
     ]
    },
    {
     "name": "stdout",
     "output_type": "stream",
     "text": [
      "2020-11-05 00:00:00\n"
     ]
    },
    {
     "name": "stderr",
     "output_type": "stream",
     "text": [
      "C:\\Users\\rabjo\\AppData\\Local\\Temp\\ipykernel_31168\\2978814946.py:9: RuntimeWarning: Mean of empty slice\n",
      "  data[dataset_name] = np.nanmean(mask(raster, polygon, crop=True, invert=False, all_touched=True, nodata=np.nan)[0])\n",
      "C:\\Users\\rabjo\\AppData\\Local\\Temp\\ipykernel_31168\\2978814946.py:9: RuntimeWarning: Mean of empty slice\n",
      "  data[dataset_name] = np.nanmean(mask(raster, polygon, crop=True, invert=False, all_touched=True, nodata=np.nan)[0])\n",
      "C:\\Users\\rabjo\\AppData\\Local\\Temp\\ipykernel_31168\\2978814946.py:9: RuntimeWarning: Mean of empty slice\n",
      "  data[dataset_name] = np.nanmean(mask(raster, polygon, crop=True, invert=False, all_touched=True, nodata=np.nan)[0])\n",
      "C:\\Users\\rabjo\\AppData\\Local\\Temp\\ipykernel_31168\\2978814946.py:9: RuntimeWarning: Mean of empty slice\n",
      "  data[dataset_name] = np.nanmean(mask(raster, polygon, crop=True, invert=False, all_touched=True, nodata=np.nan)[0])\n",
      "C:\\Users\\rabjo\\AppData\\Local\\Temp\\ipykernel_31168\\2978814946.py:9: RuntimeWarning: Mean of empty slice\n",
      "  data[dataset_name] = np.nanmean(mask(raster, polygon, crop=True, invert=False, all_touched=True, nodata=np.nan)[0])\n",
      "C:\\Users\\rabjo\\AppData\\Local\\Temp\\ipykernel_31168\\2978814946.py:9: RuntimeWarning: Mean of empty slice\n",
      "  data[dataset_name] = np.nanmean(mask(raster, polygon, crop=True, invert=False, all_touched=True, nodata=np.nan)[0])\n",
      "C:\\Users\\rabjo\\AppData\\Local\\Temp\\ipykernel_31168\\2978814946.py:9: RuntimeWarning: Mean of empty slice\n",
      "  data[dataset_name] = np.nanmean(mask(raster, polygon, crop=True, invert=False, all_touched=True, nodata=np.nan)[0])\n",
      "C:\\Users\\rabjo\\AppData\\Local\\Temp\\ipykernel_31168\\2978814946.py:9: RuntimeWarning: Mean of empty slice\n",
      "  data[dataset_name] = np.nanmean(mask(raster, polygon, crop=True, invert=False, all_touched=True, nodata=np.nan)[0])\n",
      "C:\\Users\\rabjo\\AppData\\Local\\Temp\\ipykernel_31168\\2978814946.py:9: RuntimeWarning: Mean of empty slice\n",
      "  data[dataset_name] = np.nanmean(mask(raster, polygon, crop=True, invert=False, all_touched=True, nodata=np.nan)[0])\n"
     ]
    },
    {
     "name": "stdout",
     "output_type": "stream",
     "text": [
      "2021-07-03 00:00:00\n"
     ]
    },
    {
     "name": "stderr",
     "output_type": "stream",
     "text": [
      "C:\\Users\\rabjo\\AppData\\Local\\Temp\\ipykernel_31168\\2978814946.py:9: RuntimeWarning: Mean of empty slice\n",
      "  data[dataset_name] = np.nanmean(mask(raster, polygon, crop=True, invert=False, all_touched=True, nodata=np.nan)[0])\n",
      "C:\\Users\\rabjo\\AppData\\Local\\Temp\\ipykernel_31168\\2978814946.py:9: RuntimeWarning: Mean of empty slice\n",
      "  data[dataset_name] = np.nanmean(mask(raster, polygon, crop=True, invert=False, all_touched=True, nodata=np.nan)[0])\n",
      "C:\\Users\\rabjo\\AppData\\Local\\Temp\\ipykernel_31168\\2978814946.py:9: RuntimeWarning: Mean of empty slice\n",
      "  data[dataset_name] = np.nanmean(mask(raster, polygon, crop=True, invert=False, all_touched=True, nodata=np.nan)[0])\n",
      "C:\\Users\\rabjo\\AppData\\Local\\Temp\\ipykernel_31168\\2978814946.py:9: RuntimeWarning: Mean of empty slice\n",
      "  data[dataset_name] = np.nanmean(mask(raster, polygon, crop=True, invert=False, all_touched=True, nodata=np.nan)[0])\n",
      "C:\\Users\\rabjo\\AppData\\Local\\Temp\\ipykernel_31168\\2978814946.py:9: RuntimeWarning: Mean of empty slice\n",
      "  data[dataset_name] = np.nanmean(mask(raster, polygon, crop=True, invert=False, all_touched=True, nodata=np.nan)[0])\n",
      "C:\\Users\\rabjo\\AppData\\Local\\Temp\\ipykernel_31168\\2978814946.py:9: RuntimeWarning: Mean of empty slice\n",
      "  data[dataset_name] = np.nanmean(mask(raster, polygon, crop=True, invert=False, all_touched=True, nodata=np.nan)[0])\n",
      "C:\\Users\\rabjo\\AppData\\Local\\Temp\\ipykernel_31168\\2978814946.py:9: RuntimeWarning: Mean of empty slice\n",
      "  data[dataset_name] = np.nanmean(mask(raster, polygon, crop=True, invert=False, all_touched=True, nodata=np.nan)[0])\n",
      "C:\\Users\\rabjo\\AppData\\Local\\Temp\\ipykernel_31168\\2978814946.py:9: RuntimeWarning: Mean of empty slice\n",
      "  data[dataset_name] = np.nanmean(mask(raster, polygon, crop=True, invert=False, all_touched=True, nodata=np.nan)[0])\n",
      "C:\\Users\\rabjo\\AppData\\Local\\Temp\\ipykernel_31168\\2978814946.py:9: RuntimeWarning: Mean of empty slice\n",
      "  data[dataset_name] = np.nanmean(mask(raster, polygon, crop=True, invert=False, all_touched=True, nodata=np.nan)[0])\n",
      "C:\\Users\\rabjo\\AppData\\Local\\Temp\\ipykernel_31168\\2978814946.py:9: RuntimeWarning: Mean of empty slice\n",
      "  data[dataset_name] = np.nanmean(mask(raster, polygon, crop=True, invert=False, all_touched=True, nodata=np.nan)[0])\n",
      "C:\\Users\\rabjo\\AppData\\Local\\Temp\\ipykernel_31168\\2978814946.py:9: RuntimeWarning: Mean of empty slice\n",
      "  data[dataset_name] = np.nanmean(mask(raster, polygon, crop=True, invert=False, all_touched=True, nodata=np.nan)[0])\n",
      "C:\\Users\\rabjo\\AppData\\Local\\Temp\\ipykernel_31168\\2978814946.py:9: RuntimeWarning: Mean of empty slice\n",
      "  data[dataset_name] = np.nanmean(mask(raster, polygon, crop=True, invert=False, all_touched=True, nodata=np.nan)[0])\n",
      "C:\\Users\\rabjo\\AppData\\Local\\Temp\\ipykernel_31168\\2978814946.py:9: RuntimeWarning: Mean of empty slice\n",
      "  data[dataset_name] = np.nanmean(mask(raster, polygon, crop=True, invert=False, all_touched=True, nodata=np.nan)[0])\n",
      "C:\\Users\\rabjo\\AppData\\Local\\Temp\\ipykernel_31168\\2978814946.py:9: RuntimeWarning: Mean of empty slice\n",
      "  data[dataset_name] = np.nanmean(mask(raster, polygon, crop=True, invert=False, all_touched=True, nodata=np.nan)[0])\n",
      "C:\\Users\\rabjo\\AppData\\Local\\Temp\\ipykernel_31168\\2978814946.py:9: RuntimeWarning: Mean of empty slice\n",
      "  data[dataset_name] = np.nanmean(mask(raster, polygon, crop=True, invert=False, all_touched=True, nodata=np.nan)[0])\n"
     ]
    },
    {
     "name": "stdout",
     "output_type": "stream",
     "text": [
      "2022-06-16 00:00:00\n",
      "2022-06-28 00:00:00\n"
     ]
    },
    {
     "name": "stderr",
     "output_type": "stream",
     "text": [
      "C:\\Users\\rabjo\\AppData\\Local\\Temp\\ipykernel_31168\\2978814946.py:9: RuntimeWarning: Mean of empty slice\n",
      "  data[dataset_name] = np.nanmean(mask(raster, polygon, crop=True, invert=False, all_touched=True, nodata=np.nan)[0])\n",
      "C:\\Users\\rabjo\\AppData\\Local\\Temp\\ipykernel_31168\\2978814946.py:9: RuntimeWarning: Mean of empty slice\n",
      "  data[dataset_name] = np.nanmean(mask(raster, polygon, crop=True, invert=False, all_touched=True, nodata=np.nan)[0])\n",
      "C:\\Users\\rabjo\\AppData\\Local\\Temp\\ipykernel_31168\\2978814946.py:9: RuntimeWarning: Mean of empty slice\n",
      "  data[dataset_name] = np.nanmean(mask(raster, polygon, crop=True, invert=False, all_touched=True, nodata=np.nan)[0])\n",
      "C:\\Users\\rabjo\\AppData\\Local\\Temp\\ipykernel_31168\\2978814946.py:9: RuntimeWarning: Mean of empty slice\n",
      "  data[dataset_name] = np.nanmean(mask(raster, polygon, crop=True, invert=False, all_touched=True, nodata=np.nan)[0])\n",
      "C:\\Users\\rabjo\\AppData\\Local\\Temp\\ipykernel_31168\\2978814946.py:9: RuntimeWarning: Mean of empty slice\n",
      "  data[dataset_name] = np.nanmean(mask(raster, polygon, crop=True, invert=False, all_touched=True, nodata=np.nan)[0])\n",
      "C:\\Users\\rabjo\\AppData\\Local\\Temp\\ipykernel_31168\\2978814946.py:9: RuntimeWarning: Mean of empty slice\n",
      "  data[dataset_name] = np.nanmean(mask(raster, polygon, crop=True, invert=False, all_touched=True, nodata=np.nan)[0])\n"
     ]
    }
   ],
   "source": [
    "ts = get_time_series_data_from_polygon(gdf.loc[8][['geometry']])"
   ]
  },
  {
   "cell_type": "code",
   "execution_count": 13,
   "metadata": {},
   "outputs": [
    {
     "data": {
      "text/html": [
       "<div>\n",
       "<style scoped>\n",
       "    .dataframe tbody tr th:only-of-type {\n",
       "        vertical-align: middle;\n",
       "    }\n",
       "\n",
       "    .dataframe tbody tr th {\n",
       "        vertical-align: top;\n",
       "    }\n",
       "\n",
       "    .dataframe thead th {\n",
       "        text-align: right;\n",
       "    }\n",
       "</style>\n",
       "<table border=\"1\" class=\"dataframe\">\n",
       "  <thead>\n",
       "    <tr style=\"text-align: right;\">\n",
       "      <th></th>\n",
       "      <th>gdd</th>\n",
       "      <th>pmm</th>\n",
       "      <th>tmax</th>\n",
       "      <th>tmean</th>\n",
       "      <th>tmin</th>\n",
       "      <th>ndvi</th>\n",
       "      <th>ndwi</th>\n",
       "      <th>reci</th>\n",
       "      <th>elevation</th>\n",
       "      <th>exposure</th>\n",
       "      <th>slope</th>\n",
       "    </tr>\n",
       "  </thead>\n",
       "  <tbody>\n",
       "    <tr>\n",
       "      <th>2020-03-22</th>\n",
       "      <td>3.051428</td>\n",
       "      <td>0.524082</td>\n",
       "      <td>18.794580</td>\n",
       "      <td>12.797966</td>\n",
       "      <td>7.310073</td>\n",
       "      <td>0.200307</td>\n",
       "      <td>-0.062845</td>\n",
       "      <td>0.502375</td>\n",
       "      <td>234.689514</td>\n",
       "      <td>117.242249</td>\n",
       "      <td>13.417278</td>\n",
       "    </tr>\n",
       "    <tr>\n",
       "      <th>2020-04-03</th>\n",
       "      <td>0.418571</td>\n",
       "      <td>0.000000</td>\n",
       "      <td>19.729502</td>\n",
       "      <td>10.133245</td>\n",
       "      <td>1.106295</td>\n",
       "      <td>NaN</td>\n",
       "      <td>NaN</td>\n",
       "      <td>NaN</td>\n",
       "      <td>234.689514</td>\n",
       "      <td>117.242249</td>\n",
       "      <td>13.417278</td>\n",
       "    </tr>\n",
       "    <tr>\n",
       "      <th>2020-04-15</th>\n",
       "      <td>2.890000</td>\n",
       "      <td>0.000000</td>\n",
       "      <td>21.229456</td>\n",
       "      <td>12.031464</td>\n",
       "      <td>4.547482</td>\n",
       "      <td>NaN</td>\n",
       "      <td>NaN</td>\n",
       "      <td>NaN</td>\n",
       "      <td>234.689514</td>\n",
       "      <td>117.242249</td>\n",
       "      <td>13.417278</td>\n",
       "    </tr>\n",
       "    <tr>\n",
       "      <th>2020-04-27</th>\n",
       "      <td>7.941429</td>\n",
       "      <td>0.000158</td>\n",
       "      <td>22.510900</td>\n",
       "      <td>17.254629</td>\n",
       "      <td>13.374471</td>\n",
       "      <td>NaN</td>\n",
       "      <td>NaN</td>\n",
       "      <td>NaN</td>\n",
       "      <td>234.689514</td>\n",
       "      <td>117.242249</td>\n",
       "      <td>13.417278</td>\n",
       "    </tr>\n",
       "    <tr>\n",
       "      <th>2020-05-09</th>\n",
       "      <td>9.821428</td>\n",
       "      <td>0.000000</td>\n",
       "      <td>27.441988</td>\n",
       "      <td>19.986624</td>\n",
       "      <td>12.198226</td>\n",
       "      <td>NaN</td>\n",
       "      <td>NaN</td>\n",
       "      <td>NaN</td>\n",
       "      <td>234.689514</td>\n",
       "      <td>117.242249</td>\n",
       "      <td>13.417278</td>\n",
       "    </tr>\n",
       "  </tbody>\n",
       "</table>\n",
       "</div>"
      ],
      "text/plain": [
       "                 gdd       pmm       tmax      tmean       tmin      ndvi  \\\n",
       "2020-03-22  3.051428  0.524082  18.794580  12.797966   7.310073  0.200307   \n",
       "2020-04-03  0.418571  0.000000  19.729502  10.133245   1.106295       NaN   \n",
       "2020-04-15  2.890000  0.000000  21.229456  12.031464   4.547482       NaN   \n",
       "2020-04-27  7.941429  0.000158  22.510900  17.254629  13.374471       NaN   \n",
       "2020-05-09  9.821428  0.000000  27.441988  19.986624  12.198226       NaN   \n",
       "\n",
       "                ndwi      reci   elevation    exposure      slope  \n",
       "2020-03-22 -0.062845  0.502375  234.689514  117.242249  13.417278  \n",
       "2020-04-03       NaN       NaN  234.689514  117.242249  13.417278  \n",
       "2020-04-15       NaN       NaN  234.689514  117.242249  13.417278  \n",
       "2020-04-27       NaN       NaN  234.689514  117.242249  13.417278  \n",
       "2020-05-09       NaN       NaN  234.689514  117.242249  13.417278  "
      ]
     },
     "execution_count": 13,
     "metadata": {},
     "output_type": "execute_result"
    }
   ],
   "source": [
    "ts.head()"
   ]
  },
  {
   "cell_type": "code",
   "execution_count": 6,
   "metadata": {},
   "outputs": [],
   "source": [
    "# ts.to_csv('fiel8_4Year_time_series.csv')"
   ]
  },
  {
   "cell_type": "code",
   "execution_count": null,
   "metadata": {},
   "outputs": [],
   "source": [
    "data_ = gpd.read_file('../complete.geojson')\n",
    "print(data_.name.unique())\n",
    "print(len(data_))\n",
    "import warnings\n",
    "from tqdm import tqdm\n",
    "pbar = tqdm(total=len(data_))\n",
    "warnings.filterwarnings('ignore')\n",
    "for index, row in data_.iterrows():\n",
    "    df = get_time_series_data_from_polygon(data_.loc[index][['geometry']])\n",
    "    df.to_csv(\"../csv_dump/{}.csv\".format(data_.loc[index, \"name\"]))\n",
    "    pbar.update(1)"
   ]
  }
 ],
 "metadata": {
  "kernelspec": {
   "display_name": "Python 3 (ipykernel)",
   "language": "python",
   "name": "python3"
  },
  "language_info": {
   "codemirror_mode": {
    "name": "ipython",
    "version": 3
   },
   "file_extension": ".py",
   "mimetype": "text/x-python",
   "name": "python",
   "nbconvert_exporter": "python",
   "pygments_lexer": "ipython3",
   "version": "3.11.6"
  }
 },
 "nbformat": 4,
 "nbformat_minor": 4
}
