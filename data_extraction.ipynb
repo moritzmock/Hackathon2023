{
 "cells": [
  {
   "cell_type": "code",
   "execution_count": 3,
   "metadata": {},
   "outputs": [],
   "source": [
    "import pandas as pd\n",
    "import rasterio\n",
    "from rasterio.mask import mask\n",
    "import geopandas as gpd\n",
    "import json\n"
   ]
  },
  {
   "cell_type": "markdown",
   "metadata": {},
   "source": [
    "## cut raster"
   ]
  },
  {
   "cell_type": "code",
   "execution_count": 12,
   "metadata": {},
   "outputs": [],
   "source": [
    "gdf = gpd.read_file('../konverto_data_package/polygons/polygons.geojson')"
   ]
  },
  {
   "cell_type": "code",
   "execution_count": 13,
   "metadata": {},
   "outputs": [
    {
     "data": {
      "text/html": [
       "<div>\n",
       "<style scoped>\n",
       "    .dataframe tbody tr th:only-of-type {\n",
       "        vertical-align: middle;\n",
       "    }\n",
       "\n",
       "    .dataframe tbody tr th {\n",
       "        vertical-align: top;\n",
       "    }\n",
       "\n",
       "    .dataframe thead th {\n",
       "        text-align: right;\n",
       "    }\n",
       "</style>\n",
       "<table border=\"1\" class=\"dataframe\">\n",
       "  <thead>\n",
       "    <tr style=\"text-align: right;\">\n",
       "      <th></th>\n",
       "      <th>type</th>\n",
       "      <th>geometry</th>\n",
       "    </tr>\n",
       "  </thead>\n",
       "  <tbody>\n",
       "    <tr>\n",
       "      <th>0</th>\n",
       "      <td>winery</td>\n",
       "      <td>GEOMETRYCOLLECTION EMPTY</td>\n",
       "    </tr>\n",
       "    <tr>\n",
       "      <th>1</th>\n",
       "      <td>winery</td>\n",
       "      <td>MULTIPOLYGON (((675007.413 5143326.011, 675067...</td>\n",
       "    </tr>\n",
       "    <tr>\n",
       "      <th>2</th>\n",
       "      <td>winery</td>\n",
       "      <td>MULTIPOLYGON (((675066.550 5143267.678, 675149...</td>\n",
       "    </tr>\n",
       "    <tr>\n",
       "      <th>3</th>\n",
       "      <td>winery</td>\n",
       "      <td>MULTIPOLYGON (((674760.935 5143198.037, 674834...</td>\n",
       "    </tr>\n",
       "    <tr>\n",
       "      <th>4</th>\n",
       "      <td>winery</td>\n",
       "      <td>MULTIPOLYGON (((673672.158 5143505.380, 673678...</td>\n",
       "    </tr>\n",
       "    <tr>\n",
       "      <th>...</th>\n",
       "      <td>...</td>\n",
       "      <td>...</td>\n",
       "    </tr>\n",
       "    <tr>\n",
       "      <th>96</th>\n",
       "      <td>apple orchard</td>\n",
       "      <td>MULTIPOLYGON (((673977.481 5136172.898, 674005...</td>\n",
       "    </tr>\n",
       "    <tr>\n",
       "      <th>97</th>\n",
       "      <td>winery</td>\n",
       "      <td>MULTIPOLYGON (((673322.831 5136427.445, 673328...</td>\n",
       "    </tr>\n",
       "    <tr>\n",
       "      <th>98</th>\n",
       "      <td>winery</td>\n",
       "      <td>MULTIPOLYGON (((672685.775 5139609.934, 672709...</td>\n",
       "    </tr>\n",
       "    <tr>\n",
       "      <th>99</th>\n",
       "      <td>apple orchard</td>\n",
       "      <td>MULTIPOLYGON (((678006.627 5145427.665, 677996...</td>\n",
       "    </tr>\n",
       "    <tr>\n",
       "      <th>100</th>\n",
       "      <td>apple orchard</td>\n",
       "      <td>MULTIPOLYGON (((678007.678 5145426.475, 678070...</td>\n",
       "    </tr>\n",
       "  </tbody>\n",
       "</table>\n",
       "<p>101 rows × 2 columns</p>\n",
       "</div>"
      ],
      "text/plain": [
       "              type                                           geometry\n",
       "0           winery                           GEOMETRYCOLLECTION EMPTY\n",
       "1           winery  MULTIPOLYGON (((675007.413 5143326.011, 675067...\n",
       "2           winery  MULTIPOLYGON (((675066.550 5143267.678, 675149...\n",
       "3           winery  MULTIPOLYGON (((674760.935 5143198.037, 674834...\n",
       "4           winery  MULTIPOLYGON (((673672.158 5143505.380, 673678...\n",
       "..             ...                                                ...\n",
       "96   apple orchard  MULTIPOLYGON (((673977.481 5136172.898, 674005...\n",
       "97          winery  MULTIPOLYGON (((673322.831 5136427.445, 673328...\n",
       "98          winery  MULTIPOLYGON (((672685.775 5139609.934, 672709...\n",
       "99   apple orchard  MULTIPOLYGON (((678006.627 5145427.665, 677996...\n",
       "100  apple orchard  MULTIPOLYGON (((678007.678 5145426.475, 678070...\n",
       "\n",
       "[101 rows x 2 columns]"
      ]
     },
     "execution_count": 13,
     "metadata": {},
     "output_type": "execute_result"
    }
   ],
   "source": [
    "gdf"
   ]
  }
 ],
 "metadata": {
  "kernelspec": {
   "display_name": "RealTimeBigData",
   "language": "python",
   "name": "python3"
  },
  "language_info": {
   "codemirror_mode": {
    "name": "ipython",
    "version": 3
   },
   "file_extension": ".py",
   "mimetype": "text/x-python",
   "name": "python",
   "nbconvert_exporter": "python",
   "pygments_lexer": "ipython3",
   "version": "3.8.16"
  }
 },
 "nbformat": 4,
 "nbformat_minor": 2
}
