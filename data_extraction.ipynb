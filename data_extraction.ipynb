{
 "cells": [
  {
   "cell_type": "code",
   "execution_count": 1,
   "metadata": {},
   "outputs": [],
   "source": [
    "import pandas as pd\n",
    "import rasterio\n",
    "from rasterio.mask import mask\n",
    "import geopandas as gpd\n",
    "import json\n",
    "import os\n",
    "import rasterio\n",
    "import numpy as np\n"
   ]
  },
  {
   "cell_type": "markdown",
   "metadata": {},
   "source": [
    "## cut raster"
   ]
  },
  {
   "cell_type": "code",
   "execution_count": 2,
   "metadata": {},
   "outputs": [],
   "source": [
    "gdf = gpd.read_file('../konverto_data_package/polygons/polygons.geojson')"
   ]
  },
  {
   "cell_type": "code",
   "execution_count": 7,
   "metadata": {},
   "outputs": [
    {
     "data": {
      "text/plain": [
       "type                                                   winery\n",
       "geometry    MULTIPOLYGON (((673161.0209203674 5138097.8153...\n",
       "Name: 11, dtype: object"
      ]
     },
     "execution_count": 7,
     "metadata": {},
     "output_type": "execute_result"
    }
   ],
   "source": [
    "gdf1 = gdf.loc[11]\n",
    "gdf1"
   ]
  },
  {
   "cell_type": "code",
   "execution_count": 27,
   "metadata": {},
   "outputs": [
    {
     "data": {
      "image/svg+xml": [
       "<svg xmlns=\"http://www.w3.org/2000/svg\" xmlns:xlink=\"http://www.w3.org/1999/xlink\" width=\"212.94703642860986\" height=\"208.14583110250533\" viewBox=\"673463.0654911865 5139514.280558455 212.94703642860986 208.14583110250533\" preserveAspectRatio=\"xMinYMin meet\"><g transform=\"matrix(1,0,0,-1,0,10279236.706948012)\"><g><path fill-rule=\"evenodd\" fill=\"#66cc99\" stroke=\"#555555\" stroke-width=\"2.0\" opacity=\"0.6\" d=\"M 673470.9524184616,5139569.188658351 L 673539.6077218383,5139714.539462282 L 673668.12560034,5139682.868027472 L 673651.4405178521,5139607.648878803 L 673660.532443122,5139604.252607453 L 673654.8981749808,5139584.999839183 L 673616.7767223015,5139522.16748573 L 673470.9524184616,5139569.188658351 z\" /></g></g></svg>"
      ],
      "text/plain": [
       "<MULTIPOLYGON (((673470.952 5139569.189, 673539.608 5139714.539, 673668.126 ...>"
      ]
     },
     "execution_count": 27,
     "metadata": {},
     "output_type": "execute_result"
    }
   ],
   "source": [
    "gdf.loc[8].geometry\n",
    "    "
   ]
  },
  {
   "cell_type": "code",
   "execution_count": 5,
   "metadata": {},
   "outputs": [
    {
     "data": {
      "text/plain": [
       "<open DatasetReader name='../konverto_data_package/climate/tmean/tmean_2020_01_21.tif' mode='r'>"
      ]
     },
     "execution_count": 5,
     "metadata": {},
     "output_type": "execute_result"
    }
   ],
   "source": [
    "dataset = rasterio.open('../konverto_data_package/climate/tmean/tmean_2020_01_21.tif')\n",
    "dataset"
   ]
  },
  {
   "cell_type": "code",
   "execution_count": 16,
   "metadata": {},
   "outputs": [
    {
     "data": {
      "text/plain": [
       "array([[[       nan, 0.9553406 ],\n",
       "        [0.88942724, 0.7424053 ],\n",
       "        [0.8325057 , 0.34043524]]], dtype=float32)"
      ]
     },
     "execution_count": 16,
     "metadata": {},
     "output_type": "execute_result"
    }
   ],
   "source": [
    "out, inside  = mask(dataset, gdf1[['geometry']], crop=True, invert=False, all_touched=True, nodata=np.nan)\n",
    "out"
   ]
  },
  {
   "cell_type": "code",
   "execution_count": 63,
   "metadata": {},
   "outputs": [],
   "source": [
    "def get_datasets():\n",
    "\n",
    "    directory = \"../konverto_data_package\"\n",
    "    \n",
    "    datasets = {}\n",
    "    for root, dirs, files in os.walk(directory):\n",
    "        # print(f\"Current directory: {root}\")\n",
    "        if \"visual\" in root:\n",
    "            continue\n",
    "\n",
    "        tif_files = [f for f in files if f.endswith(\".tif\") and not f.startswith(\".\")]\n",
    "        tif_paths = [os.path.join(root, f) for f in tif_files]\n",
    "\n",
    "\n",
    "        if len(tif_files) > 0:\n",
    "\n",
    "            if \"climate\" in tif_paths[0]:\n",
    "                dates = [\"-\".join(f.replace(\".tif\", \"\").split(\"_\")[1:]) for f in tif_files]\n",
    "            elif \"satellite\" in tif_paths[0]:\n",
    "                datestrings = [f.replace(\".tif\", \"\").split(\"_\")[0] for f in tif_files]\n",
    "                dates = [d[:4] + \"-\" + d[4:6] + \"-\" + d[6:] for d in datestrings]\n",
    "            else:\n",
    "                dates = None\n",
    "            \n",
    "\n",
    "            if dates:\n",
    "                dataset_name = os.path.basename(root)\n",
    "                \n",
    "                for date, fp in zip(dates, tif_paths):\n",
    "                    if date in datasets:\n",
    "                        datasets[date] |= {dataset_name: fp}\n",
    "                    else:\n",
    "                        datasets[date] = {dataset_name: fp}\n",
    "            \n",
    "            if \"terrain\" in tif_paths[0]:\n",
    "                dataset_names = [n.replace(\".tif\", \"\") for n in tif_files]\n",
    "                for date in datasets.keys():\n",
    "                    for dn, fp in zip(dataset_names, tif_paths):\n",
    "                        datasets[date] |= {dn: fp}\n",
    "\n",
    "                    \n",
    "\n",
    "\n",
    "    return datasets"
   ]
  },
  {
   "cell_type": "code",
   "execution_count": 64,
   "metadata": {},
   "outputs": [],
   "source": [
    "datasets = get_datasets()"
   ]
  },
  {
   "cell_type": "code",
   "execution_count": 67,
   "metadata": {},
   "outputs": [
    {
     "data": {
      "text/plain": [
       "{'gdd': '../konverto_data_package\\\\climate\\\\gdd\\\\gdd_2020_03_22.tif',\n",
       " 'pmm': '../konverto_data_package\\\\climate\\\\pmm\\\\pmm_2020_03_22.tif',\n",
       " 'tmax': '../konverto_data_package\\\\climate\\\\tmax\\\\tmax_2020_03_22.tif',\n",
       " 'tmean': '../konverto_data_package\\\\climate\\\\tmean\\\\tmean_2020_03_22.tif',\n",
       " 'tmin': '../konverto_data_package\\\\climate\\\\tmin\\\\tmin_2020_03_22.tif',\n",
       " 'ndvi': '../konverto_data_package\\\\satellite\\\\indices\\\\ndvi\\\\20200322_ndvi.tif',\n",
       " 'ndwi': '../konverto_data_package\\\\satellite\\\\indices\\\\ndwi\\\\20200322_ndwi.tif',\n",
       " 'reci': '../konverto_data_package\\\\satellite\\\\indices\\\\reci\\\\20200322_reci.tif',\n",
       " 'elevation': '../konverto_data_package\\\\terrain\\\\elevation.tif',\n",
       " 'exposure': '../konverto_data_package\\\\terrain\\\\exposure.tif',\n",
       " 'slope': '../konverto_data_package\\\\terrain\\\\slope.tif'}"
      ]
     },
     "execution_count": 67,
     "metadata": {},
     "output_type": "execute_result"
    }
   ],
   "source": [
    "datasets[\"2020-03-22\"]"
   ]
  },
  {
   "cell_type": "code",
   "execution_count": 77,
   "metadata": {},
   "outputs": [],
   "source": [
    "def extract_raster_data_from_polygon(polygon, date_string = \"2020-03-22\"):\n",
    "\n",
    "    dataset_paths = get_datasets()\n",
    "    mean = {}\n",
    "    std = {}\n",
    "    for dataset_name, fpath in dataset_paths[date_string].items():\n",
    "        dataset = rasterio.open(fpath)\n",
    "        mean[dataset_name] = np.nanmean(mask(dataset, polygon, crop=True, invert=False, all_touched=True, nodata=np.nan)[0])\n",
    "        std[dataset_name] = np.nanstd(mask(dataset, polygon, crop=True, invert=False, all_touched=True, nodata=np.nan)[0])\n",
    "\n",
    "    return mean, std"
   ]
  },
  {
   "cell_type": "code",
   "execution_count": 80,
   "metadata": {},
   "outputs": [],
   "source": [
    "data_2020_03_22 = extract_raster_data_from_polygon(gdf.loc[8][['geometry']], \"2020-03-22\")"
   ]
  },
  {
   "cell_type": "code",
   "execution_count": 81,
   "metadata": {},
   "outputs": [],
   "source": [
    "mean__2020_03_22, std_2020_03_22 = data_2020_03_22"
   ]
  },
  {
   "cell_type": "code",
   "execution_count": 82,
   "metadata": {},
   "outputs": [
    {
     "data": {
      "text/plain": [
       "{'gdd': 3.0514283,\n",
       " 'pmm': 0.5240816,\n",
       " 'tmax': 18.79458,\n",
       " 'tmean': 12.797966,\n",
       " 'tmin': 7.3100734,\n",
       " 'ndvi': 0.200307,\n",
       " 'ndwi': -0.0628448,\n",
       " 'reci': 0.5023746,\n",
       " 'elevation': 234.68951,\n",
       " 'exposure': 117.24225,\n",
       " 'slope': 13.417278}"
      ]
     },
     "execution_count": 82,
     "metadata": {},
     "output_type": "execute_result"
    }
   ],
   "source": [
    "mean__2020_03_22"
   ]
  },
  {
   "cell_type": "code",
   "execution_count": 83,
   "metadata": {},
   "outputs": [
    {
     "data": {
      "text/plain": [
       "{'gdd': 0.07790624,\n",
       " 'pmm': 0.00042274912,\n",
       " 'tmax': 0.10280419,\n",
       " 'tmean': 0.067894556,\n",
       " 'tmin': 0.065944,\n",
       " 'ndvi': 0.019187992,\n",
       " 'ndwi': 0.014411566,\n",
       " 'reci': 0.05902372,\n",
       " 'elevation': 5.725454,\n",
       " 'exposure': 7.238578,\n",
       " 'slope': 3.045035}"
      ]
     },
     "execution_count": 83,
     "metadata": {},
     "output_type": "execute_result"
    }
   ],
   "source": [
    "std_2020_03_22"
   ]
  }
 ],
 "metadata": {
  "kernelspec": {
   "display_name": "RealTimeBigData",
   "language": "python",
   "name": "python3"
  },
  "language_info": {
   "codemirror_mode": {
    "name": "ipython",
    "version": 3
   },
   "file_extension": ".py",
   "mimetype": "text/x-python",
   "name": "python",
   "nbconvert_exporter": "python",
   "pygments_lexer": "ipython3",
   "version": "3.11.5"
  }
 },
 "nbformat": 4,
 "nbformat_minor": 2
}
